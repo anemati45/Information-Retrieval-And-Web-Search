{
 "cells": [
  {
   "cell_type": "markdown",
   "metadata": {},
   "source": [
    " Your code should give out the Rank Vector (after convergence), \n",
    "    and number of iterations it took to converge.\n",
    "    The rank scores should be rounded to 4 decimal places. "
   ]
  },
  {
   "cell_type": "code",
   "execution_count": 1,
   "metadata": {},
   "outputs": [],
   "source": [
    "import numpy as np, pandas\n"
   ]
  },
  {
   "cell_type": "code",
   "execution_count": 2,
   "metadata": {
    "scrolled": true
   },
   "outputs": [],
   "source": [
    "# Read text file form disk\n",
    "graph = open('./graph.txt', 'r')\n",
    "data = graph.read() # process\n",
    "graph.close()# closing file\n",
    "data = data.replace('\\n', ' ').replace('\\r', ' ').replace('\\t', ' ').split() # split data and put in one row\n",
    "# data"
   ]
  },
  {
   "cell_type": "code",
   "execution_count": 3,
   "metadata": {},
   "outputs": [],
   "source": [
    "\n",
    "def list_split(theList):\n",
    "    for i in range(0, len(theList), 3):\n",
    "        yield theList[i:i+3]\n"
   ]
  },
  {
   "cell_type": "code",
   "execution_count": 4,
   "metadata": {},
   "outputs": [],
   "source": [
    "data = list_split(data)\n",
    "data = list(data)\n",
    "# data\n"
   ]
  },
  {
   "cell_type": "code",
   "execution_count": 5,
   "metadata": {},
   "outputs": [],
   "source": [
    "outdegree = {} #a dictionary object\n",
    "outdegreedup = {} #duplicates\n",
    "for i in data:\n",
    "    node = i[0]\n",
    "    if node not in outdegree:\n",
    "        outdegree[node] = 0\n",
    "    if i[1] not in outdegree: # for the graph.txt files where only 1 is shown\n",
    "        outdegree[i[1]] = 0\n",
    "    if i[2] == \"1\": #is there an outdegree edge?\n",
    "\n",
    "        if node + \"->\" + i[1] not in outdegreedup: #k=1 dictionary\n",
    "            outdegree[node] += 1\n",
    "            outdegreedup[node+\"->\"+i[1]] = 1"
   ]
  },
  {
   "cell_type": "markdown",
   "metadata": {},
   "source": [
    "# Matrix M"
   ]
  },
  {
   "cell_type": "code",
   "execution_count": 6,
   "metadata": {},
   "outputs": [
    {
     "name": "stdout",
     "output_type": "stream",
     "text": [
      "---------------------------------------------------\n",
      "\n",
      "What is the output for Matrix M? Give (print) the matrix: \n",
      "\n",
      "      A         B         C         D     E    F\n",
      "A  0.0  0.000000  0.000000  0.000000  0.00  0.0\n",
      "B  1.0  0.000000  0.333333  0.333333  0.25  0.0\n",
      "C  0.0  0.333333  0.000000  0.333333  0.25  0.0\n",
      "D  0.0  0.333333  0.333333  0.000000  0.25  0.0\n",
      "E  0.0  0.333333  0.333333  0.333333  0.00  0.0\n",
      "F  0.0  0.000000  0.000000  0.000000  0.25  0.0 \n",
      "\n"
     ]
    },
    {
     "name": "stderr",
     "output_type": "stream",
     "text": [
      "/home/alinemati/anaconda3/lib/python3.6/site-packages/ipykernel_launcher.py:7: FutureWarning: Method .as_matrix will be removed in a future version. Use .values instead.\n",
      "  import sys\n"
     ]
    }
   ],
   "source": [
    "m_matrix = pandas.DataFrame(columns=outdegree.keys(), index=outdegree.keys(), dtype=\"double\").fillna(0)\n",
    "for i in data:\n",
    "    if i[2] == \"1\":\n",
    "        m_matrix.at[i[1],i[0]] = 1 / outdegree[i[0]]\n",
    "print(\"---------------------------------------------------\\n\")\n",
    "print(\"What is the output for Matrix M? Give (print) the matrix:\",\"\\n\\n\", m_matrix,\"\\n\")\n",
    "m_matrix = m_matrix.as_matrix() #create a numpy matrix\n"
   ]
  },
  {
   "cell_type": "markdown",
   "metadata": {},
   "source": [
    "# Matrix A"
   ]
  },
  {
   "cell_type": "code",
   "execution_count": 7,
   "metadata": {},
   "outputs": [
    {
     "name": "stdout",
     "output_type": "stream",
     "text": [
      "What is the output of Matrix A? After applying teleportation. Give (print) the matrix.\n",
      "[[0.025      0.025      0.025      0.025      0.025      0.025     ]\n",
      " [0.875      0.025      0.30833333 0.30833333 0.2375     0.025     ]\n",
      " [0.025      0.30833333 0.025      0.30833333 0.2375     0.025     ]\n",
      " [0.025      0.30833333 0.30833333 0.025      0.2375     0.025     ]\n",
      " [0.025      0.30833333 0.30833333 0.30833333 0.025      0.025     ]\n",
      " [0.025      0.025      0.025      0.025      0.2375     0.025     ]]\n"
     ]
    }
   ],
   "source": [
    "# A = beta * M + (1-beta)*T\n",
    "beta = 0.85 #BETA\n",
    "\n",
    "T = np.matrix([[1/6,1/6,1/6,1/6,1/6,1/6],\n",
    "               [1/6,1/6,1/6,1/6,1/6,1/6],\n",
    "               [1/6,1/6,1/6,1/6,1/6,1/6],\n",
    "               [1/6,1/6,1/6,1/6,1/6,1/6],\n",
    "               [1/6,1/6,1/6,1/6,1/6,1/6],\n",
    "               [1/6,1/6,1/6,1/6,1/6,1/6]])\n",
    "reuslt1= beta * m_matrix\n",
    "reuslt2=(1-beta)*T\n",
    "print(\"What is the output of Matrix A? After applying teleportation. Give (print) the matrix.\")\n",
    "# Matrix_A= reuslt1+reuslt2\n",
    "Matrix_A=np.add(reuslt1,reuslt2)\n",
    "print(Matrix_A)"
   ]
  },
  {
   "cell_type": "markdown",
   "metadata": {},
   "source": [
    "# Original Rank Vector R"
   ]
  },
  {
   "cell_type": "code",
   "execution_count": 8,
   "metadata": {},
   "outputs": [
    {
     "name": "stdout",
     "output_type": "stream",
     "text": [
      "---------------------------------------------------\n",
      "\n",
      "What is the original rank vector (R)?: \n",
      "\n",
      " [[0.16666667]\n",
      " [0.16666667]\n",
      " [0.16666667]\n",
      " [0.16666667]\n",
      " [0.16666667]\n",
      " [0.16666667]] \n",
      "\n"
     ]
    }
   ],
   "source": [
    "rj = []\n",
    "for i in range(0, len(outdegree)):\n",
    "    rj.append(1 / len(outdegree))\n",
    "original_rank_vector_R = np.matrix(rj).T\n",
    "print(\"---------------------------------------------------\\n\")\n",
    "print(\"What is the original rank vector (R)?:\",\"\\n\\n\", original_rank_vector_R, \"\\n\")"
   ]
  },
  {
   "cell_type": "markdown",
   "metadata": {},
   "source": [
    "# Converged Rank Vector R"
   ]
  },
  {
   "cell_type": "code",
   "execution_count": 9,
   "metadata": {},
   "outputs": [
    {
     "name": "stdout",
     "output_type": "stream",
     "text": [
      " When you use Matrix M\n",
      "[[0.00000000e+00]\n",
      " [1.25876784e-05]\n",
      " [1.25876784e-05]\n",
      " [1.25876784e-05]\n",
      " [1.34734421e-05]\n",
      " [3.60538370e-06]]\n",
      "\n",
      " iterations is 143\n"
     ]
    }
   ],
   "source": [
    "iterations = 0; #exponent for iterations\n",
    "lastrvec = original_rank_vector_R\n",
    "currentrvec = np.empty(shape=(len(outdegree),1))  #(n,1) format for r vectors: n rows, one col\n",
    "currentrvec.fill(-1) #start while loop with currentrvec values of -1\n",
    "jumpprob = (1- beta) / len(outdegree)  #probability that the user will jump\n",
    "while(np.allclose(lastrvec, currentrvec, rtol=1e-06, atol=1e-06) == 0): #lastrvec and currentrvec are compared up to 6 decimal places\n",
    "    lastrvec = original_rank_vector_R\n",
    "    iterations += 1\n",
    "#     print(iterations)\n",
    "    currentrvec =  m_matrix * original_rank_vector_R\n",
    "    original_rank_vector_R = currentrvec\n",
    "print(\" When you use Matrix M\")\n",
    "print(currentrvec)\n",
    "print(\"\\n iterations is\", iterations)\n",
    "\n",
    "# Formula for M :         rank_vector_t_plus_1 = m_matrix * rank_vector_t"
   ]
  },
  {
   "cell_type": "code",
   "execution_count": 10,
   "metadata": {
    "scrolled": false
   },
   "outputs": [
    {
     "name": "stdout",
     "output_type": "stream",
     "text": [
      "teleport_factor: 0.025000000000000005\n",
      " When you use Matrix A\n",
      "[[0.025     ]\n",
      " [0.15901537]\n",
      " [0.14245693]\n",
      " [0.14245693]\n",
      " [0.15077911]\n",
      " [0.05704034]] 46\n"
     ]
    }
   ],
   "source": [
    "iterations = 0; #exponent for iterations\n",
    "lastrvec = original_rank_vector_R\n",
    "currentrvec = np.empty(shape=(len(outdegree),1))  \n",
    "currentrvec.fill(0) \n",
    "teleport_factor = (1- beta) / len(outdegree)  #probability that the user will jump\n",
    "# teleport_factor= round(teleport_factor)\n",
    "# print(\"teleport_factor:\" ,teleport_factor)\n",
    "# Formula for A:  rank_vector_t_plus_1 = damp_factor * m_matrix * rank_vector_t + teleport_factor\n",
    "while(np.allclose(lastrvec, currentrvec, rtol=1e-06, atol=1e-06) == 0): \n",
    "    to 6 decimal places\n",
    "    lastrvec = original_rank_vector_R\n",
    "    iterations += 1\n",
    "#     print(iterations , \"\\t\", lastrvec)\n",
    "    currentrvec = beta * m_matrix * original_rank_vector_R +  teleport_factor\n",
    "    original_rank_vector_R = currentrvec\n",
    "print(\" When you use Matrix A\")\n",
    "print(currentrvecA , iterations) \n"
   ]
  },
  {
   "cell_type": "code",
   "execution_count": null,
   "metadata": {},
   "outputs": [],
   "source": []
  }
 ],
 "metadata": {
  "kernelspec": {
   "display_name": "Python 3",
   "language": "python",
   "name": "python3"
  },
  "language_info": {
   "codemirror_mode": {
    "name": "ipython",
    "version": 3
   },
   "file_extension": ".py",
   "mimetype": "text/x-python",
   "name": "python",
   "nbconvert_exporter": "python",
   "pygments_lexer": "ipython3",
   "version": "3.6.8"
  }
 },
 "nbformat": 4,
 "nbformat_minor": 2
}
