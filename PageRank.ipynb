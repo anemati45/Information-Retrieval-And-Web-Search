{
 "cells": [
  {
   "cell_type": "markdown",
   "metadata": {},
   "source": [
    "# What to Input\n",
    " \n",
    "Graph: Your implementation can expect your graph to be submitted in adjacency matrix format, through a text file (call it graph.txt). Here is an example text filePreview the document to show you can provide adjacency matrix as input. This document will contain graph structure in matrix format, with three columns (I,j,k). Each row will denote information for a cell. e.g. a row of the form \"i j k\" denotes that the matrix contains a value k at the row i column j.  The value k=1 denotes that there is a link from document (node) i to document (node) j, else the value of k =0.    \n",
    "\n",
    "Parameters: In your implementations use beta=0.85 as the dampening factor. \n",
    " \n",
    " \n",
    "# What to output:\n",
    " \n",
    " Your code should give out the Rank Vector (after convergence), \n",
    "    and number of iterations it took to converge.\n",
    "    The rank scores should be rounded to 4 decimal places. "
   ]
  },
  {
   "cell_type": "code",
   "execution_count": 11,
   "metadata": {},
   "outputs": [
    {
     "name": "stdout",
     "output_type": "stream",
     "text": [
      "Populating the interactive namespace from numpy and matplotlib\n"
     ]
    },
    {
     "data": {
      "image/png": "[encoded data removed]",
      "text/plain": [
       "<Figure size 432x288 with 1 Axes>"
      ]
     },
     "metadata": {
      "needs_background": "light"
     },
     "output_type": "display_data"
    }
   ],
   "source": [
    "%pylab inline\n",
    "import matplotlib.pyplot as plt\n",
    "import matplotlib.image as mpimg\n",
    "img=mpimg.imread('graph.png')\n",
    "imgplot = plt.imshow(img)\n",
    "plt.show()"
   ]
  },
  {
   "cell_type": "code",
   "execution_count": 12,
   "metadata": {},
   "outputs": [],
   "source": [
    "# import library\n",
    "import numpy as np, pandas as pd\n",
    "import warnings\n",
    "warnings.filterwarnings(\"ignore\")"
   ]
  },
  {
   "cell_type": "code",
   "execution_count": 13,
   "metadata": {
    "scrolled": true
   },
   "outputs": [],
   "source": [
    "# Read graph text file form disk\n",
    "graph = open('./graph.txt', 'r')\n",
    "data = graph.read() # process graph.txt\n",
    "graph.close()# closing file\n",
    "data = data.replace('\\n', ' ').replace('\\r', ' ').replace('\\t', ' ').split() # split data and put in one row\n",
    "# data"
   ]
  },
  {
   "cell_type": "code",
   "execution_count": 14,
   "metadata": {},
   "outputs": [
    {
     "data": {
      "text/plain": [
       "[['A', 'A', '0'],\n",
       " ['A', 'B', '1'],\n",
       " ['A', 'C', '0'],\n",
       " ['A', 'D', '0'],\n",
       " ['A', 'E', '0'],\n",
       " ['A', 'F', '0'],\n",
       " ['B', 'A', '0'],\n",
       " ['B', 'B', '0'],\n",
       " ['B', 'C', '1'],\n",
       " ['B', 'D', '1'],\n",
       " ['B', 'E', '1'],\n",
       " ['B', 'F', '0'],\n",
       " ['C', 'A', '0'],\n",
       " ['C', 'B', '1'],\n",
       " ['C', 'C', '0'],\n",
       " ['C', 'D', '1'],\n",
       " ['C', 'E', '1'],\n",
       " ['C', 'F', '0'],\n",
       " ['D', 'A', '0'],\n",
       " ['D', 'B', '1'],\n",
       " ['D', 'C', '1'],\n",
       " ['D', 'D', '0'],\n",
       " ['D', 'E', '1'],\n",
       " ['D', 'F', '0'],\n",
       " ['E', 'A', '0'],\n",
       " ['E', 'B', '1'],\n",
       " ['E', 'C', '1'],\n",
       " ['E', 'D', '1'],\n",
       " ['E', 'E', '0'],\n",
       " ['E', 'F', '1'],\n",
       " ['F', 'A', '0'],\n",
       " ['F', 'B', '0'],\n",
       " ['F', 'C', '0'],\n",
       " ['F', 'D', '0'],\n",
       " ['F', 'E', '0'],\n",
       " ['F', 'F', '0']]"
      ]
     },
     "execution_count": 14,
     "metadata": {},
     "output_type": "execute_result"
    }
   ],
   "source": [
    "def split(theList):\n",
    "    for i in range(0, len(theList), 3):\n",
    "        yield theList[i:i+3]\n",
    "data = split(data)\n",
    "data = list(data)\n",
    "data\n"
   ]
  },
  {
   "cell_type": "code",
   "execution_count": 15,
   "metadata": {},
   "outputs": [
    {
     "data": {
      "text/plain": [
       "{'A---->B': 1,\n",
       " 'B---->C': 1,\n",
       " 'B---->D': 1,\n",
       " 'B---->E': 1,\n",
       " 'C---->B': 1,\n",
       " 'C---->D': 1,\n",
       " 'C---->E': 1,\n",
       " 'D---->B': 1,\n",
       " 'D---->C': 1,\n",
       " 'D---->E': 1,\n",
       " 'E---->B': 1,\n",
       " 'E---->C': 1,\n",
       " 'E---->D': 1,\n",
       " 'E---->F': 1}"
      ]
     },
     "execution_count": 15,
     "metadata": {},
     "output_type": "execute_result"
    }
   ],
   "source": [
    "dic = {} #a dictionary object\n",
    "dicdup = {} #duplicates\n",
    "for i in data:\n",
    "    node = i[0]\n",
    "    if node not in dic:\n",
    "        dic[node] = 0\n",
    "    if i[1] not in dic: # for the graph.txt files where only 1 is shown\n",
    "        dic[i[1]] = 0\n",
    "    if i[2] == \"1\": #is there an dic edge?\n",
    "\n",
    "        if node + \"---->\" + i[1] not in dicdup: #k=1 dictionary\n",
    "            dic[node] += 1\n",
    "            dicdup[node+\"---->\"+i[1]] = 1\n",
    "dicdup"
   ]
  },
  {
   "cell_type": "markdown",
   "metadata": {},
   "source": [
    "# Matrix M"
   ]
  },
  {
   "cell_type": "code",
   "execution_count": 16,
   "metadata": {},
   "outputs": [
    {
     "name": "stdout",
     "output_type": "stream",
     "text": [
      "What is the output for Matrix M? Give (print) the matrix: \n",
      "\n",
      "      A         B         C         D     E    F\n",
      "A  0.0  0.000000  0.000000  0.000000  0.00  0.0\n",
      "B  1.0  0.000000  0.333333  0.333333  0.25  0.0\n",
      "C  0.0  0.333333  0.000000  0.333333  0.25  0.0\n",
      "D  0.0  0.333333  0.333333  0.000000  0.25  0.0\n",
      "E  0.0  0.333333  0.333333  0.333333  0.00  0.0\n",
      "F  0.0  0.000000  0.000000  0.000000  0.25  0.0 \n",
      "\n"
     ]
    }
   ],
   "source": [
    "m_matrix = pd.DataFrame(columns=dic.keys(), index=dic.keys(), dtype=\"double\").fillna(0)\n",
    "for i in data:\n",
    "    if i[2] == \"1\":\n",
    "        m_matrix.at[i[1],i[0]] = 1 / dic[i[0]]\n",
    "print(\"What is the output for Matrix M? Give (print) the matrix:\",\"\\n\\n\", m_matrix,\"\\n\")\n",
    "m_matrix = m_matrix.as_matrix() #create a numpy matrix\n"
   ]
  },
  {
   "cell_type": "markdown",
   "metadata": {},
   "source": [
    "# Matrix A"
   ]
  },
  {
   "cell_type": "code",
   "execution_count": 17,
   "metadata": {},
   "outputs": [
    {
     "name": "stdout",
     "output_type": "stream",
     "text": [
      "What is the output of Matrix A? After applying teleportation. Give (print) the matrix.\n",
      "[[0.025      0.025      0.025      0.025      0.025      0.025     ]\n",
      " [0.875      0.025      0.30833333 0.30833333 0.2375     0.025     ]\n",
      " [0.025      0.30833333 0.025      0.30833333 0.2375     0.025     ]\n",
      " [0.025      0.30833333 0.30833333 0.025      0.2375     0.025     ]\n",
      " [0.025      0.30833333 0.30833333 0.30833333 0.025      0.025     ]\n",
      " [0.025      0.025      0.025      0.025      0.2375     0.025     ]]\n"
     ]
    }
   ],
   "source": [
    "# A = beta * M + (1-beta)*T\n",
    "beta = 0.85 #BETA\n",
    "\n",
    "T = np.matrix([[1/6,1/6,1/6,1/6,1/6,1/6],\n",
    "               [1/6,1/6,1/6,1/6,1/6,1/6],\n",
    "               [1/6,1/6,1/6,1/6,1/6,1/6],\n",
    "               [1/6,1/6,1/6,1/6,1/6,1/6],\n",
    "               [1/6,1/6,1/6,1/6,1/6,1/6],\n",
    "               [1/6,1/6,1/6,1/6,1/6,1/6]])\n",
    "reuslt1= beta * m_matrix\n",
    "reuslt2=(1-beta)*T\n",
    "print(\"What is the output of Matrix A? After applying teleportation. Give (print) the matrix.\")\n",
    "# Matrix_A= reuslt1+reuslt2\n",
    "Matrix_A=np.add(reuslt1,reuslt2)\n",
    "print(Matrix_A)"
   ]
  },
  {
   "cell_type": "markdown",
   "metadata": {},
   "source": [
    "# Original Rank Vector R"
   ]
  },
  {
   "cell_type": "code",
   "execution_count": 18,
   "metadata": {},
   "outputs": [
    {
     "name": "stdout",
     "output_type": "stream",
     "text": [
      "What is the original rank vector (R)?: \n",
      "\n",
      " [[0.16666667]\n",
      " [0.16666667]\n",
      " [0.16666667]\n",
      " [0.16666667]\n",
      " [0.16666667]\n",
      " [0.16666667]] \n",
      "\n"
     ]
    }
   ],
   "source": [
    "rj = []\n",
    "for i in range(0, len(dic)):\n",
    "    rj.append(1 / len(dic))\n",
    "original_rank_vector_R = np.matrix(rj).T\n",
    "print(\"What is the original rank vector (R)?:\",\"\\n\\n\", original_rank_vector_R, \"\\n\")"
   ]
  },
  {
   "cell_type": "markdown",
   "metadata": {},
   "source": [
    "# Converged Rank Vector R"
   ]
  },
  {
   "cell_type": "code",
   "execution_count": 19,
   "metadata": {},
   "outputs": [
    {
     "name": "stdout",
     "output_type": "stream",
     "text": [
      " When you use Matrix M\n",
      "[[0.00000000e+00]\n",
      " [1.25876784e-05]\n",
      " [1.25876784e-05]\n",
      " [1.25876784e-05]\n",
      " [1.34734421e-05]\n",
      " [3.60538370e-06]]\n",
      "\n",
      " iterations is 143\n"
     ]
    }
   ],
   "source": [
    "iterations = 0; #iterations\n",
    "lastrvec = original_rank_vector_R\n",
    "currentrvec = np.empty(shape=(len(dic),1))  #(n,1) format for r vectors: n rows, one col\n",
    "currentrvec.fill(-1) #start while loop with currentrvec values of -1\n",
    "while(np.allclose(lastrvec, currentrvec, rtol=1e-06, atol=1e-06) == 0): \n",
    "    lastrvec = original_rank_vector_R\n",
    "    iterations += 1\n",
    "#     print(iterations)\n",
    "    currentrvec =  m_matrix * original_rank_vector_R  # Formula for M :         rank_vector_t_plus_1 = m_matrix * rank_vector_t\n",
    "    original_rank_vector_R = currentrvec\n",
    "print(\" When you use Matrix M\")\n",
    "print(currentrvec)\n",
    "print(\"\\n iterations is\", iterations)\n",
    "\n"
   ]
  },
  {
   "cell_type": "code",
   "execution_count": 20,
   "metadata": {
    "scrolled": false
   },
   "outputs": [
    {
     "name": "stdout",
     "output_type": "stream",
     "text": [
      " When you use Matrix A\n",
      "[[0.025     ]\n",
      " [0.15901537]\n",
      " [0.14245693]\n",
      " [0.14245693]\n",
      " [0.15077911]\n",
      " [0.05704034]]\n",
      "\n",
      " iterations is 46\n"
     ]
    }
   ],
   "source": [
    "iterations = 0; #exponent for iterations\n",
    "lastrvec = original_rank_vector_R\n",
    "currentrvec = np.empty(shape=(len(dic),1))  \n",
    "currentrvec.fill(-1) \n",
    "# teleport_factor= round(teleport_factor)\n",
    "# print(\"teleport_factor:\" ,teleport_factor)\n",
    "# Formula for A:  rank_vector_t_plus_1 = damp_factor * m_matrix * rank_vector_t + teleport_factor\n",
    "while(np.allclose(lastrvec, currentrvec, rtol=1e-06, atol=1e-06) == 0): \n",
    "#     to 6 decimal places\n",
    "    lastrvec = original_rank_vector_R\n",
    "    iterations += 1\n",
    "#     print(iterations , \"\\t\", lastrvec)\n",
    "    currentrvec =  (0.85 * m_matrix * original_rank_vector_R )+  (1- beta) / len(dic)\n",
    "    original_rank_vector_R = currentrvec\n",
    "print(\" When you use Matrix A\")\n",
    "print(currentrvec ) \n",
    "print(\"\\n iterations is\", iterations)\n"
   ]
  }
 ],
 "metadata": {
  "kernelspec": {
   "display_name": "Python 3",
   "language": "python",
   "name": "python3"
  },
  "language_info": {
   "codemirror_mode": {
    "name": "ipython",
    "version": 3
   },
   "file_extension": ".py",
   "mimetype": "text/x-python",
   "name": "python",
   "nbconvert_exporter": "python",
   "pygments_lexer": "ipython3",
   "version": "3.6.8"
  }
 },
 "nbformat": 4,
 "nbformat_minor": 2
}
